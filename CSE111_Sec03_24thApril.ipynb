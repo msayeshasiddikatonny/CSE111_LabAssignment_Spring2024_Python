{
  "nbformat": 4,
  "nbformat_minor": 0,
  "metadata": {
    "colab": {
      "provenance": [],
      "authorship_tag": "ABX9TyNKlE8IrQ1d12aBqNmTQGJ9",
      "include_colab_link": true
    },
    "kernelspec": {
      "name": "python3",
      "display_name": "Python 3"
    },
    "language_info": {
      "name": "python"
    }
  },
  "cells": [
    {
      "cell_type": "markdown",
      "metadata": {
        "id": "view-in-github",
        "colab_type": "text"
      },
      "source": [
        "<a href=\"https://colab.research.google.com/github/msayeshasiddikatonny/CSE111_LabAssignment_Spring2024_Python/blob/main/CSE111_Sec03_24thApril.ipynb\" target=\"_parent\"><img src=\"https://colab.research.google.com/assets/colab-badge.svg\" alt=\"Open In Colab\"/></a>"
      ]
    },
    {
      "cell_type": "code",
      "execution_count": 6,
      "metadata": {
        "colab": {
          "base_uri": "https://localhost:8080/"
        },
        "id": "-O0S5NfG3023",
        "outputId": "4568beac-25cf-4576-874b-146a7e03b796"
      },
      "outputs": [
        {
          "output_type": "stream",
          "name": "stdout",
          "text": [
            "----Printing Detail----\n",
            "Do not eat the Mango .\n",
            "Mangos are bad for you\n",
            "----Printing Detail----\n",
            "Eat the Jackfruit .\n",
            "Jackfruits are good for you\n"
          ]
        }
      ],
      "source": [
        "class Fruit:\n",
        "    def __init__(self, formalin=False, name=''):\n",
        "        self.__formalin = formalin\n",
        "        self.name = name\n",
        "\n",
        "    def getName(self):\n",
        "        return self.name\n",
        "\n",
        "    def hasFormalin(self):\n",
        "        return self.__formalin\n",
        "\n",
        "class testFruit:\n",
        "    def test(self, f):\n",
        "        print('----Printing Detail----')\n",
        "        if f.hasFormalin():#if self.name==\"jjo\"\n",
        "            print('Do not eat the',f.getName(),'.')\n",
        "            print(f)\n",
        "        else:\n",
        "            print('Eat the',f.getName(),'.')\n",
        "            print(f)\n",
        "class Mango(Fruit):\n",
        "  def __init__(self):\n",
        "    super().__init__(True,\"Mango\")\n",
        "  def __str__(self):\n",
        "     return \"Mangos are bad for you\"\n",
        "class Jackfruit(Fruit):\n",
        "  def __init__(self):\n",
        "    super().__init__( False,\"Jackfruit\")\n",
        "  def __str__(self):\n",
        "     return \"Jackfruits are good for you\"\n",
        "\n",
        "\n",
        "m = Mango()\n",
        "j = Jackfruit()\n",
        "t1 = testFruit()\n",
        "t1.test(m)\n",
        "t1.test(j)\n",
        "\n"
      ]
    },
    {
      "cell_type": "markdown",
      "source": [
        "OUTPUT:\\\n",
        "----Printing Detail-----\\\n",
        "Do not eat the Mango.\\\n",
        "Mangos are bad for you\\\n",
        "----Printing Detail-----\\\n",
        "Eat the Jackfruit.\\\n",
        "Jackfruits are good for you\n",
        "\n",
        "\n",
        "\n"
      ],
      "metadata": {
        "id": "q4hpeKn35C9t"
      }
    }
  ]
}