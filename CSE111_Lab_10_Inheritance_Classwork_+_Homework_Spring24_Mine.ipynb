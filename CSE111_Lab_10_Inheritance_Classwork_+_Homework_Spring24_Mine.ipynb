{
  "nbformat": 4,
  "nbformat_minor": 0,
  "metadata": {
    "colab": {
      "provenance": [],
      "authorship_tag": "ABX9TyOFlEhnsNGpqY2/Z+ojFPcl",
      "include_colab_link": true
    },
    "kernelspec": {
      "name": "python3",
      "display_name": "Python 3"
    },
    "language_info": {
      "name": "python"
    }
  },
  "cells": [
    {
      "cell_type": "markdown",
      "metadata": {
        "id": "view-in-github",
        "colab_type": "text"
      },
      "source": [
        "<a href=\"https://colab.research.google.com/github/msayeshasiddikatonny/CSE111_LabAssignment_Spring2024_Python/blob/main/CSE111_Lab_10_Inheritance_Classwork_%2B_Homework_Spring24_Mine.ipynb\" target=\"_parent\"><img src=\"https://colab.research.google.com/assets/colab-badge.svg\" alt=\"Open In Colab\"/></a>"
      ]
    },
    {
      "cell_type": "markdown",
      "source": [
        "# **Task - 1**\n",
        "\n",
        "Given the following classes, write the code for the BBA_Student class so that the following output is printed:\n",
        "\n",
        "\n"
      ],
      "metadata": {
        "id": "plfh-d8VZxIH"
      }
    },
    {
      "cell_type": "code",
      "source": [
        "class Student:\n",
        "    def __init__(self, name='Just a student', dept='nothing'):\n",
        "        self.__name = name\n",
        "        self.__department = dept\n",
        "\n",
        "    def set_department(self, dept):\n",
        "        self.__department = dept\n",
        "\n",
        "    def get_name(self):\n",
        "        return self.__name\n",
        "\n",
        "    def set_name(self, name):\n",
        "        self.__name = name\n",
        "\n",
        "    def __str__(self):\n",
        "        return 'Name: ' + self.__name + ' Department: ' + self.__department\n",
        "\n",
        "\n",
        "class BBA_Student(Student):\n",
        "    def __init__(self, name='default', dept='BBA'):\n",
        "        self.set_name(name)\n",
        "        self.set_department(dept)\n",
        "\n",
        "\n",
        "print(BBA_Student())\n",
        "print(BBA_Student('Humpty Dumpty'))\n",
        "print(BBA_Student('Little Bo Peep'))"
      ],
      "metadata": {
        "colab": {
          "base_uri": "https://localhost:8080/"
        },
        "id": "StodQi0jZ_fh",
        "outputId": "1d20d7e5-5728-4639-d972-ef429bb9727a"
      },
      "execution_count": 4,
      "outputs": [
        {
          "output_type": "stream",
          "name": "stdout",
          "text": [
            "Name: default Department: BBA\n",
            "Name: Humpty Dumpty Department: BBA\n",
            "Name: Little Bo Peep Department: BBA\n"
          ]
        }
      ]
    },
    {
      "cell_type": "markdown",
      "source": [
        "# **Task – 2**\n",
        "\n",
        "A vehicle assumes that the whole world is a 2-dimensional graph paper. It maintains its x and y coordinates (both are integers). The vehicle gets manufactured (constructed) at (0, 0) coordinate.\n",
        "Subtasks:\n",
        "> 1. Design a **Vehicle2010 class** that inherits movement methods from **Vehicle** and adds new methods called **move UpperRight, UpperLeft, LowerRight, LowerLeft.** Each of these diagonal move methods must re-use two inherited and appropriate move methods.\n",
        "> 2. Write an **“equals”** method that tests if significant class properties are the same (in this case x and y).\n",
        "**Note: All moves are 1 step. That means a single call to any move method changes value of either x or y or both by 1.**\n",
        "\n",
        "\n",
        ""
      ],
      "metadata": {
        "id": "yeOibaAfaI9u"
      }
    },
    {
      "cell_type": "code",
      "source": [
        "class Vehicle:\n",
        "    def __init__(self):\n",
        "        self.x = 0\n",
        "        self.y = 0\n",
        "\n",
        "    def moveUp(self):\n",
        "        self.y += 1\n",
        "\n",
        "    def moveDown(self):\n",
        "        self.y -= 1\n",
        "\n",
        "    def moveRight(self):\n",
        "        self.x += 1\n",
        "\n",
        "    def moveLeft(self):\n",
        "        self.x -= 1\n",
        "\n",
        "    def __str__(self):\n",
        "        return '('+str(self.x)+' , '+str(self.y)+')'\n",
        "\n",
        "\n",
        "class Vehicle2010(Vehicle):\n",
        "    def __init__(self):\n",
        "        super().__init__()\n",
        "        self.x = 0\n",
        "        self.y = 0\n",
        "\n",
        "    def moveUpperRight(self): #subtask 1\n",
        "        Vehicle.moveUp(self)\n",
        "        Vehicle.moveRight(self)\n",
        "\n",
        "    def moveUpperLeft(self):\n",
        "        Vehicle.moveUp(self)\n",
        "        Vehicle.moveLeft(self)\n",
        "\n",
        "    def moveLowerRight(self):\n",
        "        Vehicle.moveDown(self)\n",
        "        Vehicle.moveRight(self)\n",
        "\n",
        "    def moveLowerLeft(self):\n",
        "        Vehicle.moveDown(self)\n",
        "        Vehicle.moveLeft(self)\n",
        "\n",
        "    def equals(self, other): # subtask 2\n",
        "        if self.x == other.x and self.y == other.y:\n",
        "            return 'True'\n",
        "        else:\n",
        "            return 'False'\n",
        "\n",
        "\n",
        "print('Part 1')\n",
        "print('------')\n",
        "\n",
        "car = Vehicle()\n",
        "\n",
        "print(car)\n",
        "car.moveUp()\n",
        "print(car)\n",
        "car.moveLeft()\n",
        "print(car)\n",
        "car.moveDown()\n",
        "print(car)\n",
        "car.moveRight()\n",
        "print(car)\n",
        "\n",
        "print('------')\n",
        "print('Part 2')\n",
        "print('------')\n",
        "\n",
        "car1 = Vehicle2010()\n",
        "\n",
        "print(car1)\n",
        "car1.moveLowerLeft()\n",
        "print(car1)\n",
        "\n",
        "car2 = Vehicle2010()\n",
        "\n",
        "car2.moveLeft()\n",
        "print(car1.equals(car2))\n",
        "car2.moveDown()\n",
        "print(car1.equals(car2))\n",
        "print('------')"
      ],
      "metadata": {
        "colab": {
          "base_uri": "https://localhost:8080/"
        },
        "id": "QU4UORGza2TF",
        "outputId": "bd449aee-13f6-413b-8a77-c1aa2bc345a4"
      },
      "execution_count": 5,
      "outputs": [
        {
          "output_type": "stream",
          "name": "stdout",
          "text": [
            "Part 1\n",
            "------\n",
            "(0 , 0)\n",
            "(0 , 1)\n",
            "(-1 , 1)\n",
            "(-1 , 0)\n",
            "(0 , 0)\n",
            "------\n",
            "Part 2\n",
            "------\n",
            "(0 , 0)\n",
            "(-1 , -1)\n",
            "False\n",
            "True\n",
            "------\n"
          ]
        }
      ]
    },
    {
      "cell_type": "markdown",
      "source": [
        "# **Task - 3**\n",
        "\n",
        "Given the following classes, write the code for the **Cricket_Tournament** and the **Tennis_Tournment** class so that the following output is printed.\n"
      ],
      "metadata": {
        "id": "zy6w-oQQUJiL"
      }
    },
    {
      "cell_type": "code",
      "execution_count": 1,
      "metadata": {
        "colab": {
          "base_uri": "https://localhost:8080/"
        },
        "id": "nhIeaV92SJj4",
        "outputId": "27f8a716-6033-421a-c3f3-0430f8bc565e"
      },
      "outputs": [
        {
          "output_type": "stream",
          "name": "stdout",
          "text": [
            "Cricket Tournament Name: Default\n",
            "Number of Teams: 0\n",
            "Type: No type\n",
            "-----------------------\n",
            "Cricket Tournament Name: IPL\n",
            "Number of Teams: 10\n",
            "Type: t20\n",
            "-----------------------\n",
            "Cricket Tournament Name: Roland Garros\n",
            "Number of Teams: 128\n"
          ]
        }
      ],
      "source": [
        "#Task03\n",
        "class Tournament:\n",
        "    def __init__(self,name='Default'):\n",
        "        self.__name = name\n",
        "    def set_name(self,name):\n",
        "        self.__name = name\n",
        "    def get_name(self):\n",
        "        return self.__name\n",
        "\n",
        "#write your code here\n",
        "class Cricket_Tournament(Tournament):\n",
        "    def __init__(self, name = 'Default', teams = 0, types = 'No type'):\n",
        "        super().__init__(name)\n",
        "        self.teams = teams\n",
        "        self.types = types\n",
        "\n",
        "    def detail(self):\n",
        "        return f\"Cricket Tournament Name: {self.get_name()}\\nNumber of Teams: {self.teams}\\nType: {self.types}\"\n",
        "\n",
        "class Tennis_Tournament(Cricket_Tournament):\n",
        "    def detail(self):\n",
        "        return f\"Cricket Tournament Name: {self.get_name()}\\nNumber of Teams: {self.teams}\"\n",
        "\n",
        "\n",
        "ct1 = Cricket_Tournament()\n",
        "print(ct1.detail())\n",
        "print(\"-----------------------\")\n",
        "ct2 = Cricket_Tournament(\"IPL\",10,\"t20\")\n",
        "print(ct2.detail())\n",
        "print(\"-----------------------\")\n",
        "tt = Tennis_Tournament(\"Roland Garros\",128)\n",
        "print(tt.detail())"
      ]
    },
    {
      "cell_type": "markdown",
      "source": [
        "# **Task - 4**\n",
        "\n",
        "Given the following classes, write the code for the **Book** and the **CD** class so that the following output is printed.\n",
        "\n"
      ],
      "metadata": {
        "id": "Mh7yEZwMbP-X"
      }
    },
    {
      "cell_type": "code",
      "source": [
        "class Product:\n",
        "    def __init__(self, id, title, price):\n",
        "        self.__id = id\n",
        "        self.__title = title\n",
        "        self.__price = price\n",
        "\n",
        "    def get_id_title_price(self):\n",
        "        return \"ID: \" + str(self.__id) + \" Title: \" + self.__title + \" Price: \" + str(self.__price)\n",
        "\n",
        "\n",
        "class Book(Product):\n",
        "    def __init__(self, id, title, price, isbn, publisher):\n",
        "        self.isbn = isbn\n",
        "        self.publisher = publisher\n",
        "        super().__init__(id, title, price)\n",
        "\n",
        "    def printDetail(self):\n",
        "        return Product.get_id_title_price(self) + \" ISBN: \" + self.isbn + \" Publisher: \" + self.publisher\n",
        "\n",
        "\n",
        "class CD(Product):\n",
        "    def __init__(self, id, title, price, band, duration, genre):\n",
        "        self.band = band\n",
        "        self.duration = duration\n",
        "        self.genre = genre\n",
        "        super().__init__(id, title, price)\n",
        "\n",
        "    def printDetail(self):\n",
        "        return Product.get_id_title_price(self) + \"\\nBand: \" + self.band + \" Duration: \" + \\\n",
        "               str(self.duration) + \"minutes \" + \"Genre: \" + self.genre\n",
        "\n",
        "\n",
        "book = Book(1, \"The Alchemist\", 500, \"97806\", \"HarperCollins\")\n",
        "print(book.printDetail())\n",
        "print(\"-----------------------\")\n",
        "cd = CD(2, \"Shotto\", 300, \"Warfaze\", 50, \"Hard Rock\")\n",
        "print(cd.printDetail())"
      ],
      "metadata": {
        "colab": {
          "base_uri": "https://localhost:8080/"
        },
        "id": "VgWGggjcbiZg",
        "outputId": "5b723b6f-b9b2-4935-cae9-0c804be42b81"
      },
      "execution_count": 9,
      "outputs": [
        {
          "output_type": "stream",
          "name": "stdout",
          "text": [
            "ID: 1 Title: The Alchemist Price: 500 ISBN: 97806 Publisher: HarperCollins\n",
            "-----------------------\n",
            "ID: 2 Title: Shotto Price: 300\n",
            "Band: Warfaze Duration: 50minutes Genre: Hard Rock\n"
          ]
        }
      ]
    },
    {
      "cell_type": "markdown",
      "source": [
        "# **Task - 5**\n",
        "\n",
        "Given the following classes, write the code for the **Dog** and the **Cat** class so that the following output is printed.\n",
        "\n"
      ],
      "metadata": {
        "id": "86AkHEUwcT4V"
      }
    },
    {
      "cell_type": "code",
      "source": [
        "class Animal:\n",
        "    def __init__(self,sound):\n",
        "        self.__sound = sound\n",
        "    def makeSound(self):\n",
        "        return self.__sound\n",
        "\n",
        "class Printer:\n",
        "    def printSound(self, a):\n",
        "        print(a.makeSound())\n",
        "\n",
        "\n",
        "class Cat(Animal):\n",
        "    pass\n",
        "\n",
        "class Dog(Animal):\n",
        "    pass\n",
        "\n",
        "d1 = Dog('bark')\n",
        "c1 = Cat('meow')\n",
        "a1 = Animal('Animal does not make sound')\n",
        "pr = Printer()\n",
        "pr.printSound(a1)\n",
        "pr.printSound(c1)\n",
        "pr.printSound(d1)"
      ],
      "metadata": {
        "colab": {
          "base_uri": "https://localhost:8080/"
        },
        "id": "8QsG4US6cXuy",
        "outputId": "11ffa326-5f74-4b9c-b200-560fd7a3d6fe"
      },
      "execution_count": 10,
      "outputs": [
        {
          "output_type": "stream",
          "name": "stdout",
          "text": [
            "Animal does not make sound\n",
            "meow\n",
            "bark\n"
          ]
        }
      ]
    },
    {
      "cell_type": "markdown",
      "source": [
        "#  `*Homework Part*`\n"
      ],
      "metadata": {
        "id": "jcj_qqJjUeCU"
      }
    },
    {
      "cell_type": "markdown",
      "source": [
        "# **Task - 1**\n",
        "\n",
        "Given the following classes, write the code for the **Triangle** and the **Trapezoid** class so that the following output is printed."
      ],
      "metadata": {
        "id": "lYw-KBg-UlVO"
      }
    },
    {
      "cell_type": "code",
      "source": [
        "class Shape:\n",
        "\n",
        "  def __init__(self, name='Default', height=0, base=0):\n",
        "    self.area = 0\n",
        "    self.name = name\n",
        "    self.height = height\n",
        "    self.base = base\n",
        "\n",
        "  def get_height_base(self):\n",
        "    return \"Height: \"+str(self.height)+\", Base: \"+str(self.base)\n",
        "\n",
        "#write your code here\n",
        "class triangle(Shape):\n",
        "    def calcArea(self):\n",
        "        self.area = (1/2) * self.height * self.base\n",
        "\n",
        "    def printDetail(self):\n",
        "        return(f\"Shape name: {self.name}\\n{self.get_height_base()}\\nArea: {self.area}\")\n",
        "\n",
        "\n",
        "class trapezoid(Shape):\n",
        "    def __init__(self, name, h, b, a):\n",
        "        super().__init__(name, h, b)\n",
        "        self.sideA = a\n",
        "\n",
        "    def calcArea(self):\n",
        "        self.area = ((self.sideA+self.base)*self.height)/2\n",
        "\n",
        "    def printDetail(self):\n",
        "        return(f\"Shape name: {self.name}\\n{self.get_height_base()}, Side_A: {self.sideA}\\nArea: {self.area}\")\n",
        "\n",
        "tri_default = triangle()\n",
        "tri_default.calcArea()\n",
        "print(tri_default.printDetail())\n",
        "print('--------------------------')\n",
        "tri = triangle('Triangle', 10, 5)\n",
        "tri.calcArea()\n",
        "print(tri.printDetail())\n",
        "print('---------------------------')\n",
        "trap = trapezoid('Trapezoid', 10, 6, 4)\n",
        "trap.calcArea()\n",
        "print(trap.printDetail())\n"
      ],
      "metadata": {
        "colab": {
          "base_uri": "https://localhost:8080/"
        },
        "id": "DW4wde20U4yO",
        "outputId": "c883f012-ff3c-4bbe-89e8-a34de9cdf0ec"
      },
      "execution_count": 2,
      "outputs": [
        {
          "output_type": "stream",
          "name": "stdout",
          "text": [
            "Shape name: Default\n",
            "Height: 0, Base: 0\n",
            "Area: 0.0\n",
            "--------------------------\n",
            "Shape name: Triangle\n",
            "Height: 10, Base: 5\n",
            "Area: 25.0\n",
            "---------------------------\n",
            "Shape name: Trapezoid\n",
            "Height: 10, Base: 6, Side_A: 4\n",
            "Area: 50.0\n"
          ]
        }
      ]
    },
    {
      "cell_type": "markdown",
      "source": [
        "# **Task - 2**\n",
        "\n",
        "Given the following classes, write the code for the **Player** and the **Manager** class so that the following output is printed. To calculate the match earnings use the following formula:\n",
        "1. Player: (total_goal * 1000) + (total_match * 10)\n",
        "2. Manager: match_win * 1000\n"
      ],
      "metadata": {
        "id": "49ZnCg0CdPRi"
      }
    },
    {
      "cell_type": "code",
      "source": [
        "class SportsPerson:\n",
        "\n",
        "  def __init__(self, team_name, name, role):\n",
        "    self.__team = team_name\n",
        "    self.__name = name\n",
        "    self.role = role\n",
        "    self.earning_per_match = 0\n",
        "\n",
        "  def get_name_team(self):\n",
        "    return 'Name: '+self.__name+', Team Name: ' +self.__team\n",
        "\n",
        "#write your code here\n",
        "class Player(SportsPerson):\n",
        "\n",
        "    def __init__(self, team_name, name, role, total_goal, total_match):\n",
        "        super().__init__(team_name, name, role)\n",
        "        self.total_goal = total_goal\n",
        "        self.total_match = total_match\n",
        "\n",
        "    def calculate_ratio(self):\n",
        "        self.goal_ratio = self.total_goal / self.total_match\n",
        "        self.earning_per_match = (self.total_goal * 1000) + (self.total_match * 10)\n",
        "\n",
        "    def print_details(self):\n",
        "        print(self.get_name_team())\n",
        "        print('Team Role: ' + self.role)\n",
        "        print('Total Goal: ' + str(self.total_goal) + ', Total Played: ' + str(self.total_match))\n",
        "        print('Goal Ratio: ' + str(self.goal_ratio))\n",
        "        print('Match Earning: ' + str(self.earning_per_match) + 'K')\n",
        "\n",
        "\n",
        "class Manager(SportsPerson):\n",
        "\n",
        "    def __init__(self, team_name, name, role, match_win):\n",
        "        super().__init__(team_name, name, role)\n",
        "        self.match_win = match_win\n",
        "\n",
        "    def print_details(self):\n",
        "        print(self.get_name_team())\n",
        "        print('Team Role: ' + self.role)\n",
        "        print('Total Win: ' + str(self.match_win))\n",
        "        print('Match Earning: ' + str(self.match_win * 1000) + 'K')\n",
        "\n",
        "player_one = Player('Al-Nassr', 'Ronaldo', 'Striker', 25, 32)\n",
        "player_one.calculate_ratio()\n",
        "player_one.print_details()\n",
        "print('------------------------------------------')\n",
        "manager_one = Manager('Real Madrid', 'Zidane', 'Manager', 25)\n",
        "manager_one.print_details()\n"
      ],
      "metadata": {
        "colab": {
          "base_uri": "https://localhost:8080/"
        },
        "id": "Dh9mDmToc7xA",
        "outputId": "d776ec44-dbe0-473e-98a3-9de38bb907e9"
      },
      "execution_count": 11,
      "outputs": [
        {
          "output_type": "stream",
          "name": "stdout",
          "text": [
            "Name: Ronaldo, Team Name: Al-Nassr\n",
            "Team Role: Striker\n",
            "Total Goal: 25, Total Played: 32\n",
            "Goal Ratio: 0.78125\n",
            "Match Earning: 25320K\n",
            "------------------------------------------\n",
            "Name: Zidane, Team Name: Real Madrid\n",
            "Team Role: Manager\n",
            "Total Win: 25\n",
            "Match Earning: 25000K\n"
          ]
        }
      ]
    },
    {
      "cell_type": "markdown",
      "source": [
        "# **Task - 3**\n",
        "\n",
        "The tea company **Kazi and Kazi (KK)** has decided to produce a new line of flavored teas. Design the **KK_tea (parent) and KK_flavoured_tea** (child) classes so that the following output is produced. The KK_flavoured_tea class should inherit KK_tea. Note that:\n",
        "* An object of either class represents a **single box of teabags.**\n",
        "* Each tea bag weighs 2 grams.\n",
        "* The status of an object refers to whether it is sold or not\n",
        "\n",
        "\n",
        "\n",
        "Hint: you should use class methods/variables\n"
      ],
      "metadata": {
        "id": "AtyNh-U9VNsg"
      }
    },
    {
      "cell_type": "code",
      "source": [
        "class KK_tea:\n",
        "    dict1 = {}\n",
        "    def __init__(self, price, tbags = 50, name = 'Regular'):\n",
        "        self.price = price\n",
        "        self.tbags = tbags\n",
        "        self.weight = tbags * 2\n",
        "        self.name = 'KK '+name+' Tea'\n",
        "        self.status = False\n",
        "        if self.name not in KK_tea.dict1:\n",
        "            KK_tea.dict1[self.name] = 0\n",
        "\n",
        "    def product_detail(self):\n",
        "        print(f\"Name: {self.name}, Weight: {self.weight}\\nTea Bags: {self.tbags}, Price: {self.price}\\nStatus: {self.status}\")\n",
        "\n",
        "    @classmethod\n",
        "    def total_sales(cls):\n",
        "        print(f\"Total sales: {cls.dict1}\")\n",
        "\n",
        "    @classmethod\n",
        "    def update_sold_status_regular(cls, *args):\n",
        "        for i in args:\n",
        "            i.status = True\n",
        "            cls.dict1[i.name] += 1\n",
        "\n",
        "\n",
        "class KK_flavoured_tea(KK_tea):\n",
        "    def __init__(self, name, price, tbags):\n",
        "        super().__init__(price, tbags, name)\n",
        "\n",
        "    @classmethod\n",
        "    def update_sold_status_flavoured(cls, *args):\n",
        "        for i in args:\n",
        "            i.status = True\n",
        "            cls.dict1[i.name] += 1\n",
        "\n",
        "\n",
        "\n",
        "t1 = KK_tea(250)\n",
        "print(\"-----------------1-----------------\")\n",
        "t1.product_detail()\n",
        "print(\"-----------------2-----------------\")\n",
        "KK_tea.total_sales()\n",
        "print(\"-----------------3-----------------\")\n",
        "t2 = KK_tea(470, 100)\n",
        "t3 = KK_tea(360, 75)\n",
        "KK_tea.update_sold_status_regular(t1, t2, t3)\n",
        "print(\"-----------------4-----------------\")\n",
        "t3.product_detail()\n",
        "print(\"-----------------5-----------------\")\n",
        "KK_tea.total_sales()\n",
        "print(\"-----------------6-----------------\")\n",
        "t4 = KK_flavoured_tea(\"Jasmine\", 260, 50)\n",
        "t5 = KK_flavoured_tea(\"Honey Lemon\", 270, 45)\n",
        "t6 = KK_flavoured_tea(\"Honey Lemon\", 270, 45)\n",
        "print(\"-----------------7-----------------\")\n",
        "t4.product_detail()\n",
        "print(\"-----------------8-----------------\")\n",
        "t6.product_detail()\n",
        "print(\"-----------------9-----------------\")\n",
        "KK_flavoured_tea.update_sold_status_flavoured(t4, t5, t6)\n",
        "print(\"-----------------10-----------------\")\n",
        "KK_tea.total_sales()"
      ],
      "metadata": {
        "colab": {
          "base_uri": "https://localhost:8080/"
        },
        "id": "W2Ynb-o4W9li",
        "outputId": "880f58ce-cde3-4ffb-b642-c2f940aa9f65"
      },
      "execution_count": 3,
      "outputs": [
        {
          "output_type": "stream",
          "name": "stdout",
          "text": [
            "-----------------1-----------------\n",
            "Name: KK Regular Tea, Weight: 100\n",
            "Tea Bags: 50, Price: 250\n",
            "Status: False\n",
            "-----------------2-----------------\n",
            "Total sales: {'KK Regular Tea': 0}\n",
            "-----------------3-----------------\n",
            "-----------------4-----------------\n",
            "Name: KK Regular Tea, Weight: 150\n",
            "Tea Bags: 75, Price: 360\n",
            "Status: True\n",
            "-----------------5-----------------\n",
            "Total sales: {'KK Regular Tea': 3}\n",
            "-----------------6-----------------\n",
            "-----------------7-----------------\n",
            "Name: KK Jasmine Tea, Weight: 100\n",
            "Tea Bags: 50, Price: 260\n",
            "Status: False\n",
            "-----------------8-----------------\n",
            "Name: KK Honey Lemon Tea, Weight: 90\n",
            "Tea Bags: 45, Price: 270\n",
            "Status: False\n",
            "-----------------9-----------------\n",
            "-----------------10-----------------\n",
            "Total sales: {'KK Regular Tea': 3, 'KK Jasmine Tea': 1, 'KK Honey Lemon Tea': 2}\n"
          ]
        }
      ]
    },
    {
      "cell_type": "markdown",
      "source": [
        "# **Task - 4**\n",
        "\n",
        "Given a **TwoDVector** class, design the **ThreeDVector** class that inherits 2D vector. You need to implement the following features:\n",
        "* Similar to X and Y of 2D vector, there will be Z of 3D vector.\n",
        "\n",
        "* Write a method add3DVectors() that adds 3D vectors. It must reuse the add2DVectors() function and be written with the same parameters. The only difference is that, in 3D vectors, the Z components are added as well.\n",
        "* Write a multiplyScalar() method that takes an integer as parameter and multiplies it with all 3 components separately (scalar multiplication). Keep in mind that the X and Y variables are private.\n",
        "* Write a calculateLength() that returns the length of the 3D vector using the following formula:\n",
        "X2+ Y2+Z2\n",
        "* Write a print3DVector() similar to the print2DVector() method.\n",
        "* 2D vector: Xi + Yj \\\n",
        "3D vector: Xi + Yj + Zk\n",
        "\n"
      ],
      "metadata": {
        "id": "12BMNKbzeDwB"
      }
    },
    {
      "cell_type": "code",
      "source": [
        "class TwoDVector:\n",
        "    def __init__(self, x, y):\n",
        "        self.x = x\n",
        "        self.y = y\n",
        "    def add2DVectors(self, *vectors):\n",
        "        for i in vectors:\n",
        "            self.x += i.x\n",
        "            self.y += i.y\n",
        "    def print2DVector(self):\n",
        "        if self.y >= 0:\n",
        "            y = \"+ \"+str(self.y)\n",
        "        else:\n",
        "            y = str(self.y)\n",
        "        print(f\"{self.x}i {y}j\")\n",
        "\n",
        "\n",
        "class ThreeDVector(TwoDVector):\n",
        "    def __init__(self, x, y, z):\n",
        "        super().__init__(x, y)\n",
        "        self.z = z\n",
        "\n",
        "    def add3DVectors(self, *vectors):\n",
        "        for i in vectors:\n",
        "            self.x += i.x\n",
        "            self.y += i.y\n",
        "            self.z += i.z\n",
        "\n",
        "    def multiplyScalar(self, scalar):\n",
        "        self.x *= scalar\n",
        "        self.y *= scalar\n",
        "        self.z *= scalar\n",
        "\n",
        "    def calculateLength(self):\n",
        "        return (self.x**2 + self.y**2 + self.z**2)**0.5\n",
        "\n",
        "    def print3DVector(self):\n",
        "        if self.y >= 0:\n",
        "            y = \"+ \"+str(self.y)\n",
        "        else:\n",
        "            y = str(self.y)\n",
        "        if self.z >= 0:\n",
        "            z = \"+ \"+str(self.z)\n",
        "        else:\n",
        "            z = str(self.z)\n",
        "        print(f\"{self.x}i {y}j {z}k\")\n",
        "\n",
        "TwoDV1 = TwoDVector(5, 6)\n",
        "TwoDV2 = TwoDVector(3, 7)\n",
        "TwoDV3 = TwoDVector(1, 8)\n",
        "print(\"===============\")\n",
        "TwoDV1.add2DVectors(TwoDV2, TwoDV3)\n",
        "TwoDV1.print2DVector()\n",
        "print(\"===============\")\n",
        "ThreeDV1 = ThreeDVector(5, 6, 1)\n",
        "ThreeDV2 = ThreeDVector(1, 9, -7)\n",
        "ThreeDV3 = ThreeDVector(8, 2, 4)\n",
        "print(\"===============\")\n",
        "ThreeDV1.add3DVectors(ThreeDV2,ThreeDV3)\n",
        "ThreeDV1.print3DVector()\n",
        "print(\"===============\")\n",
        "ThreeDV1.multiplyScalar(3)\n",
        "ThreeDV1.print3DVector()\n",
        "print(\"===============\")\n",
        "print(ThreeDV1.calculateLength())\n",
        "\n"
      ],
      "metadata": {
        "colab": {
          "base_uri": "https://localhost:8080/"
        },
        "id": "U4MeRbuDdzMW",
        "outputId": "30628853-3393-4c75-b75d-7937e85ab180"
      },
      "execution_count": 12,
      "outputs": [
        {
          "output_type": "stream",
          "name": "stdout",
          "text": [
            "===============\n",
            "9i + 21j\n",
            "===============\n",
            "===============\n",
            "14i + 17j -2k\n",
            "===============\n",
            "42i + 51j -6k\n",
            "===============\n",
            "66.34003316248794\n"
          ]
        }
      ]
    }
  ]
}